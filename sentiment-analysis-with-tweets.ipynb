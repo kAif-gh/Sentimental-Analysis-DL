{
 "cells": [
  {
   "cell_type": "code",
   "execution_count": 1,
   "id": "1a058486",
   "metadata": {
    "_cell_guid": "b1076dfc-b9ad-4769-8c92-a6c4dae69d19",
    "_uuid": "8f2839f25d086af736a60e9eeb907d3b93b6e0e5",
    "execution": {
     "iopub.execute_input": "2023-01-14T19:47:37.772981Z",
     "iopub.status.busy": "2023-01-14T19:47:37.772410Z",
     "iopub.status.idle": "2023-01-14T19:47:37.800623Z",
     "shell.execute_reply": "2023-01-14T19:47:37.799659Z"
    },
    "papermill": {
     "duration": 0.046561,
     "end_time": "2023-01-14T19:47:37.803136",
     "exception": false,
     "start_time": "2023-01-14T19:47:37.756575",
     "status": "completed"
    },
    "tags": []
   },
   "outputs": [
    {
     "name": "stdout",
     "output_type": "stream",
     "text": [
      "/kaggle/input/sentiment140/training.1600000.processed.noemoticon.csv\n"
     ]
    }
   ],
   "source": [
    "# This Python 3 environment comes with many helpful analytics libraries installed\n",
    "# It is defined by the kaggle/python Docker image: https://github.com/kaggle/docker-python\n",
    "# For example, here's several helpful packages to load\n",
    "\n",
    "import numpy as np # linear algebra\n",
    "import pandas as pd # data processing, CSV file I/O (e.g. pd.read_csv)\n",
    "\n",
    "# Input data files are available in the read-only \"../input/\" directory\n",
    "# For example, running this (by clicking run or pressing Shift+Enter) will list all files under the input directory\n",
    "\n",
    "import os\n",
    "for dirname, _, filenames in os.walk('/kaggle/input'):\n",
    "    for filename in filenames:\n",
    "        print(os.path.join(dirname, filename))\n",
    "\n",
    "# You can write up to 20GB to the current directory (/kaggle/working/) that gets preserved as output when you create a version using \"Save & Run All\" \n",
    "# You can also write temporary files to /kaggle/temp/, but they won't be saved outside of the current session"
   ]
  },
  {
   "cell_type": "code",
   "execution_count": 2,
   "id": "565ee737",
   "metadata": {
    "execution": {
     "iopub.execute_input": "2023-01-14T19:47:37.832435Z",
     "iopub.status.busy": "2023-01-14T19:47:37.832112Z",
     "iopub.status.idle": "2023-01-14T19:47:45.450176Z",
     "shell.execute_reply": "2023-01-14T19:47:45.449205Z"
    },
    "papermill": {
     "duration": 7.635603,
     "end_time": "2023-01-14T19:47:45.452193",
     "exception": false,
     "start_time": "2023-01-14T19:47:37.816590",
     "status": "completed"
    },
    "tags": []
   },
   "outputs": [
    {
     "name": "stderr",
     "output_type": "stream",
     "text": [
      "[nltk_data] Downloading package stopwords to /usr/share/nltk_data...\n",
      "[nltk_data]   Package stopwords is already up-to-date!\n"
     ]
    },
    {
     "data": {
      "text/plain": [
       "True"
      ]
     },
     "execution_count": 2,
     "metadata": {},
     "output_type": "execute_result"
    }
   ],
   "source": [
    "import pandas as pd\n",
    "import numpy as np\n",
    "import string\n",
    "from tensorflow.keras.preprocessing.text import Tokenizer\n",
    "from tensorflow.keras.preprocessing.sequence import pad_sequences\n",
    "import matplotlib.pyplot as plt\n",
    "import seaborn as sns\n",
    "from nltk.corpus import stopwords\n",
    "import nltk\n",
    "import re\n",
    "import multiprocessing\n",
    "import tensorflow as tf\n",
    "from sklearn.metrics import confusion_matrix, classification_report\n",
    "from sklearn.model_selection import train_test_split\n",
    "nltk.download(\"stopwords\")"
   ]
  },
  {
   "cell_type": "code",
   "execution_count": 3,
   "id": "2b636606",
   "metadata": {
    "execution": {
     "iopub.execute_input": "2023-01-14T19:47:45.472879Z",
     "iopub.status.busy": "2023-01-14T19:47:45.471628Z",
     "iopub.status.idle": "2023-01-14T19:47:45.477064Z",
     "shell.execute_reply": "2023-01-14T19:47:45.476226Z"
    },
    "papermill": {
     "duration": 0.017773,
     "end_time": "2023-01-14T19:47:45.479098",
     "exception": false,
     "start_time": "2023-01-14T19:47:45.461325",
     "status": "completed"
    },
    "tags": []
   },
   "outputs": [],
   "source": [
    "import warnings\n",
    "warnings.filterwarnings(\"ignore\")"
   ]
  },
  {
   "cell_type": "code",
   "execution_count": 4,
   "id": "6302f640",
   "metadata": {
    "execution": {
     "iopub.execute_input": "2023-01-14T19:47:45.498956Z",
     "iopub.status.busy": "2023-01-14T19:47:45.498138Z",
     "iopub.status.idle": "2023-01-14T19:47:52.098657Z",
     "shell.execute_reply": "2023-01-14T19:47:52.097655Z"
    },
    "papermill": {
     "duration": 6.612877,
     "end_time": "2023-01-14T19:47:52.101449",
     "exception": false,
     "start_time": "2023-01-14T19:47:45.488572",
     "status": "completed"
    },
    "tags": []
   },
   "outputs": [],
   "source": [
    "col_names = [\"target\", \"ids\", \"date\", \"flag\", \"user\", \"text\"]\n",
    "df = pd.read_csv('../input/sentiment140/training.1600000.processed.noemoticon.csv',encoding = \"ISO-8859-1\",\n",
    "            names=col_names)\n",
    "df=df.sample(100000)"
   ]
  },
  {
   "cell_type": "code",
   "execution_count": 5,
   "id": "621843c1",
   "metadata": {
    "execution": {
     "iopub.execute_input": "2023-01-14T19:47:52.119862Z",
     "iopub.status.busy": "2023-01-14T19:47:52.119526Z",
     "iopub.status.idle": "2023-01-14T19:47:52.137820Z",
     "shell.execute_reply": "2023-01-14T19:47:52.136800Z"
    },
    "papermill": {
     "duration": 0.029998,
     "end_time": "2023-01-14T19:47:52.140030",
     "exception": false,
     "start_time": "2023-01-14T19:47:52.110032",
     "status": "completed"
    },
    "tags": []
   },
   "outputs": [
    {
     "data": {
      "text/html": [
       "<div>\n",
       "<style scoped>\n",
       "    .dataframe tbody tr th:only-of-type {\n",
       "        vertical-align: middle;\n",
       "    }\n",
       "\n",
       "    .dataframe tbody tr th {\n",
       "        vertical-align: top;\n",
       "    }\n",
       "\n",
       "    .dataframe thead th {\n",
       "        text-align: right;\n",
       "    }\n",
       "</style>\n",
       "<table border=\"1\" class=\"dataframe\">\n",
       "  <thead>\n",
       "    <tr style=\"text-align: right;\">\n",
       "      <th></th>\n",
       "      <th>target</th>\n",
       "      <th>ids</th>\n",
       "      <th>date</th>\n",
       "      <th>flag</th>\n",
       "      <th>user</th>\n",
       "      <th>text</th>\n",
       "    </tr>\n",
       "  </thead>\n",
       "  <tbody>\n",
       "    <tr>\n",
       "      <th>316941</th>\n",
       "      <td>0</td>\n",
       "      <td>2002502568</td>\n",
       "      <td>Tue Jun 02 04:24:07 PDT 2009</td>\n",
       "      <td>NO_QUERY</td>\n",
       "      <td>RHCPfan24</td>\n",
       "      <td>What's the first conference today and at what ...</td>\n",
       "    </tr>\n",
       "    <tr>\n",
       "      <th>804697</th>\n",
       "      <td>4</td>\n",
       "      <td>1468556282</td>\n",
       "      <td>Tue Apr 07 02:23:38 PDT 2009</td>\n",
       "      <td>NO_QUERY</td>\n",
       "      <td>startupz</td>\n",
       "      <td>@Jeicky_the_cat @skwi69 Thanks</td>\n",
       "    </tr>\n",
       "    <tr>\n",
       "      <th>1157359</th>\n",
       "      <td>4</td>\n",
       "      <td>1979173746</td>\n",
       "      <td>Sun May 31 01:56:10 PDT 2009</td>\n",
       "      <td>NO_QUERY</td>\n",
       "      <td>Cairo_</td>\n",
       "      <td>with me.  I think we sang trainwreck.</td>\n",
       "    </tr>\n",
       "    <tr>\n",
       "      <th>1205980</th>\n",
       "      <td>4</td>\n",
       "      <td>1986691818</td>\n",
       "      <td>Sun May 31 19:11:07 PDT 2009</td>\n",
       "      <td>NO_QUERY</td>\n",
       "      <td>VRSantizo</td>\n",
       "      <td>wants to see andy samberg's version of new moon!</td>\n",
       "    </tr>\n",
       "    <tr>\n",
       "      <th>939270</th>\n",
       "      <td>4</td>\n",
       "      <td>1793637404</td>\n",
       "      <td>Thu May 14 03:27:17 PDT 2009</td>\n",
       "      <td>NO_QUERY</td>\n",
       "      <td>NicolaWwilts</td>\n",
       "      <td>@KevinSpacey Can I get a little hello ? ...wou...</td>\n",
       "    </tr>\n",
       "  </tbody>\n",
       "</table>\n",
       "</div>"
      ],
      "text/plain": [
       "         target         ids                          date      flag  \\\n",
       "316941        0  2002502568  Tue Jun 02 04:24:07 PDT 2009  NO_QUERY   \n",
       "804697        4  1468556282  Tue Apr 07 02:23:38 PDT 2009  NO_QUERY   \n",
       "1157359       4  1979173746  Sun May 31 01:56:10 PDT 2009  NO_QUERY   \n",
       "1205980       4  1986691818  Sun May 31 19:11:07 PDT 2009  NO_QUERY   \n",
       "939270        4  1793637404  Thu May 14 03:27:17 PDT 2009  NO_QUERY   \n",
       "\n",
       "                 user                                               text  \n",
       "316941      RHCPfan24  What's the first conference today and at what ...  \n",
       "804697       startupz                    @Jeicky_the_cat @skwi69 Thanks   \n",
       "1157359        Cairo_              with me.  I think we sang trainwreck.  \n",
       "1205980     VRSantizo  wants to see andy samberg's version of new moon!   \n",
       "939270   NicolaWwilts  @KevinSpacey Can I get a little hello ? ...wou...  "
      ]
     },
     "execution_count": 5,
     "metadata": {},
     "output_type": "execute_result"
    }
   ],
   "source": [
    "df.tail()"
   ]
  },
  {
   "cell_type": "markdown",
   "id": "4b547b0e",
   "metadata": {
    "papermill": {
     "duration": 0.00826,
     "end_time": "2023-01-14T19:47:52.156655",
     "exception": false,
     "start_time": "2023-01-14T19:47:52.148395",
     "status": "completed"
    },
    "tags": []
   },
   "source": [
    "## Dataset Preprocessing"
   ]
  },
  {
   "cell_type": "code",
   "execution_count": 6,
   "id": "78321722",
   "metadata": {
    "execution": {
     "iopub.execute_input": "2023-01-14T19:47:52.174311Z",
     "iopub.status.busy": "2023-01-14T19:47:52.173968Z",
     "iopub.status.idle": "2023-01-14T19:47:52.187428Z",
     "shell.execute_reply": "2023-01-14T19:47:52.186452Z"
    },
    "papermill": {
     "duration": 0.024619,
     "end_time": "2023-01-14T19:47:52.189593",
     "exception": false,
     "start_time": "2023-01-14T19:47:52.164974",
     "status": "completed"
    },
    "tags": []
   },
   "outputs": [
    {
     "data": {
      "text/plain": [
       "4    50436\n",
       "0    49564\n",
       "Name: target, dtype: int64"
      ]
     },
     "execution_count": 6,
     "metadata": {},
     "output_type": "execute_result"
    }
   ],
   "source": [
    "df.target.value_counts()"
   ]
  },
  {
   "cell_type": "code",
   "execution_count": 7,
   "id": "bffa4e44",
   "metadata": {
    "execution": {
     "iopub.execute_input": "2023-01-14T19:47:52.207535Z",
     "iopub.status.busy": "2023-01-14T19:47:52.207241Z",
     "iopub.status.idle": "2023-01-14T19:47:52.262365Z",
     "shell.execute_reply": "2023-01-14T19:47:52.261326Z"
    },
    "papermill": {
     "duration": 0.066561,
     "end_time": "2023-01-14T19:47:52.264651",
     "exception": false,
     "start_time": "2023-01-14T19:47:52.198090",
     "status": "completed"
    },
    "tags": []
   },
   "outputs": [
    {
     "data": {
      "text/plain": [
       "target    0\n",
       "ids       0\n",
       "date      0\n",
       "flag      0\n",
       "user      0\n",
       "text      0\n",
       "dtype: int64"
      ]
     },
     "execution_count": 7,
     "metadata": {},
     "output_type": "execute_result"
    }
   ],
   "source": [
    "df.isna().sum()"
   ]
  },
  {
   "cell_type": "code",
   "execution_count": 8,
   "id": "9c6a3465",
   "metadata": {
    "execution": {
     "iopub.execute_input": "2023-01-14T19:47:52.282771Z",
     "iopub.status.busy": "2023-01-14T19:47:52.282497Z",
     "iopub.status.idle": "2023-01-14T19:47:52.294669Z",
     "shell.execute_reply": "2023-01-14T19:47:52.293574Z"
    },
    "papermill": {
     "duration": 0.024572,
     "end_time": "2023-01-14T19:47:52.297622",
     "exception": false,
     "start_time": "2023-01-14T19:47:52.273050",
     "status": "completed"
    },
    "tags": []
   },
   "outputs": [
    {
     "data": {
      "text/plain": [
       "NO_QUERY    100000\n",
       "Name: flag, dtype: int64"
      ]
     },
     "execution_count": 8,
     "metadata": {},
     "output_type": "execute_result"
    }
   ],
   "source": [
    "df.flag.value_counts()"
   ]
  },
  {
   "cell_type": "code",
   "execution_count": 9,
   "id": "3694fbe7",
   "metadata": {
    "execution": {
     "iopub.execute_input": "2023-01-14T19:47:52.315974Z",
     "iopub.status.busy": "2023-01-14T19:47:52.315669Z",
     "iopub.status.idle": "2023-01-14T19:47:52.322596Z",
     "shell.execute_reply": "2023-01-14T19:47:52.321643Z"
    },
    "papermill": {
     "duration": 0.018695,
     "end_time": "2023-01-14T19:47:52.324675",
     "exception": false,
     "start_time": "2023-01-14T19:47:52.305980",
     "status": "completed"
    },
    "tags": []
   },
   "outputs": [],
   "source": [
    "df['target']=df['target'].replace(4,1) "
   ]
  },
  {
   "cell_type": "code",
   "execution_count": 10,
   "id": "7cf6f065",
   "metadata": {
    "execution": {
     "iopub.execute_input": "2023-01-14T19:47:52.346169Z",
     "iopub.status.busy": "2023-01-14T19:47:52.345354Z",
     "iopub.status.idle": "2023-01-14T19:47:52.352159Z",
     "shell.execute_reply": "2023-01-14T19:47:52.351106Z"
    },
    "papermill": {
     "duration": 0.01992,
     "end_time": "2023-01-14T19:47:52.354534",
     "exception": false,
     "start_time": "2023-01-14T19:47:52.334614",
     "status": "completed"
    },
    "tags": []
   },
   "outputs": [
    {
     "data": {
      "text/plain": [
       "\"wants to see andy samberg's version of new moon! \""
      ]
     },
     "execution_count": 10,
     "metadata": {},
     "output_type": "execute_result"
    }
   ],
   "source": [
    "df['text'].iat[-2]"
   ]
  },
  {
   "cell_type": "code",
   "execution_count": 11,
   "id": "7b6052d5",
   "metadata": {
    "execution": {
     "iopub.execute_input": "2023-01-14T19:47:52.374952Z",
     "iopub.status.busy": "2023-01-14T19:47:52.374664Z",
     "iopub.status.idle": "2023-01-14T19:47:52.379504Z",
     "shell.execute_reply": "2023-01-14T19:47:52.378426Z"
    },
    "papermill": {
     "duration": 0.018032,
     "end_time": "2023-01-14T19:47:52.382150",
     "exception": false,
     "start_time": "2023-01-14T19:47:52.364118",
     "status": "completed"
    },
    "tags": []
   },
   "outputs": [],
   "source": [
    "data = df['text']\n",
    "labels = np.array(df['target'])"
   ]
  },
  {
   "cell_type": "markdown",
   "id": "121ae957",
   "metadata": {
    "papermill": {
     "duration": 0.008613,
     "end_time": "2023-01-14T19:47:52.399705",
     "exception": false,
     "start_time": "2023-01-14T19:47:52.391092",
     "status": "completed"
    },
    "tags": []
   },
   "source": [
    "## Text Preprocessing\n"
   ]
  },
  {
   "cell_type": "code",
   "execution_count": 12,
   "id": "9446eedf",
   "metadata": {
    "execution": {
     "iopub.execute_input": "2023-01-14T19:47:52.419237Z",
     "iopub.status.busy": "2023-01-14T19:47:52.418466Z",
     "iopub.status.idle": "2023-01-14T19:48:08.004992Z",
     "shell.execute_reply": "2023-01-14T19:48:08.003853Z"
    },
    "papermill": {
     "duration": 15.599423,
     "end_time": "2023-01-14T19:48:08.007768",
     "exception": false,
     "start_time": "2023-01-14T19:47:52.408345",
     "status": "completed"
    },
    "tags": []
   },
   "outputs": [],
   "source": [
    "stop = set(stopwords.words('english'))\n",
    "punctuation = list(string.punctuation)\n",
    "stop.update(punctuation)\n",
    "\n",
    "#Removing the stopwords from text\n",
    "def split_into_words(text):\n",
    "    # split into words by white space\n",
    "    words = text.split()\n",
    "    return words\n",
    "\n",
    "def to_lower_case(words):\n",
    "    # convert to lower case\n",
    "    words = [word.lower() for word in words]\n",
    "    return words\n",
    "\n",
    "def remove_punctuation(words):\n",
    "    # prepare regex for char filtering\n",
    "    re_punc = re.compile('[%s]' % re.escape(string.punctuation))\n",
    "    # remove punctuation from each word\n",
    "    stripped = [re_punc.sub('', w) for w in words]\n",
    "    return stripped\n",
    "\n",
    "def keep_alphabetic(words):\n",
    "    # remove remaining tokens that are not alphabetic\n",
    "    words = [word for word in words if word.isalpha()]\n",
    "    return words\n",
    "\n",
    "def remove_stopwords(words):\n",
    "    # filter out stop words\n",
    "    stop_words = set(stopwords.words('english'))\n",
    "    words = [w for w in words if not w in stop_words]\n",
    "    return words\n",
    "\n",
    "def to_sentence(words):\n",
    "    # join words to a sentence\n",
    "    return ' '.join(words)\n",
    "def tweet(words):\n",
    "    tweet_tokenizer = nltk.tokenize.TweetTokenizer(strip_handles=True,reduce_len=True)\n",
    "    tweet = tweet_tokenizer.tokenize(words)\n",
    "    return tweet\n",
    "        \n",
    "\n",
    "#Removing the noisy text\n",
    "def denoise_text(text):\n",
    "    words = split_into_words(text)\n",
    "    words = to_lower_case(words)\n",
    "    words = remove_punctuation(words)\n",
    "    words = keep_alphabetic(words)\n",
    "    words = remove_stopwords(words)\n",
    "    return to_sentence(words)\n",
    "data = data.apply(denoise_text)"
   ]
  },
  {
   "cell_type": "code",
   "execution_count": 13,
   "id": "dade5670",
   "metadata": {
    "execution": {
     "iopub.execute_input": "2023-01-14T19:48:08.026805Z",
     "iopub.status.busy": "2023-01-14T19:48:08.026506Z",
     "iopub.status.idle": "2023-01-14T19:48:08.033587Z",
     "shell.execute_reply": "2023-01-14T19:48:08.032532Z"
    },
    "papermill": {
     "duration": 0.019946,
     "end_time": "2023-01-14T19:48:08.036894",
     "exception": false,
     "start_time": "2023-01-14T19:48:08.016948",
     "status": "completed"
    },
    "tags": []
   },
   "outputs": [
    {
     "data": {
      "text/plain": [
       "971266              im msn aim lets chat send screenamesmsns\n",
       "1213399    ddlovato hahahha demi youre awesome love youre...\n",
       "838952                               hi im aries yu make one\n",
       "264863                                        gcses cooooome\n",
       "685793     awh im jealous suppose mountain bar amp grands...\n",
       "Name: text, dtype: object"
      ]
     },
     "execution_count": 13,
     "metadata": {},
     "output_type": "execute_result"
    }
   ],
   "source": [
    "data.head()"
   ]
  },
  {
   "cell_type": "code",
   "execution_count": 14,
   "id": "e72cd018",
   "metadata": {
    "execution": {
     "iopub.execute_input": "2023-01-14T19:48:08.055514Z",
     "iopub.status.busy": "2023-01-14T19:48:08.055185Z",
     "iopub.status.idle": "2023-01-14T19:48:08.060419Z",
     "shell.execute_reply": "2023-01-14T19:48:08.059522Z"
    },
    "papermill": {
     "duration": 0.016702,
     "end_time": "2023-01-14T19:48:08.062494",
     "exception": false,
     "start_time": "2023-01-14T19:48:08.045792",
     "status": "completed"
    },
    "tags": []
   },
   "outputs": [
    {
     "name": "stdout",
     "output_type": "stream",
     "text": [
      "Text Before: @KevinSpacey Can I get a little hello ? ...would make me smile , oh I am creeping ,WELL JUST FOR YOU I DO  \n",
      "Text After: kevinspacey get little hello would make smile oh creeping well\n"
     ]
    }
   ],
   "source": [
    "print('Text Before: {}'. format(''.join(df['text'].iat[-1])))\n",
    "print('Text After: {}'. format(''.join(data.iat[-1])))"
   ]
  },
  {
   "cell_type": "code",
   "execution_count": 15,
   "id": "289e61a1",
   "metadata": {
    "execution": {
     "iopub.execute_input": "2023-01-14T19:48:08.081419Z",
     "iopub.status.busy": "2023-01-14T19:48:08.080675Z",
     "iopub.status.idle": "2023-01-14T19:48:08.085531Z",
     "shell.execute_reply": "2023-01-14T19:48:08.084614Z"
    },
    "papermill": {
     "duration": 0.016345,
     "end_time": "2023-01-14T19:48:08.087480",
     "exception": false,
     "start_time": "2023-01-14T19:48:08.071135",
     "status": "completed"
    },
    "tags": []
   },
   "outputs": [],
   "source": [
    "TRAIN_SIZE = 0.8\n",
    "MAX_NB_WORDS = 100000\n",
    "MAX_SEQUENCE_LENGTH = 30"
   ]
  },
  {
   "cell_type": "code",
   "execution_count": 16,
   "id": "55fbcacd",
   "metadata": {
    "execution": {
     "iopub.execute_input": "2023-01-14T19:48:08.108627Z",
     "iopub.status.busy": "2023-01-14T19:48:08.107739Z",
     "iopub.status.idle": "2023-01-14T19:48:08.125699Z",
     "shell.execute_reply": "2023-01-14T19:48:08.124214Z"
    },
    "papermill": {
     "duration": 0.030995,
     "end_time": "2023-01-14T19:48:08.128368",
     "exception": false,
     "start_time": "2023-01-14T19:48:08.097373",
     "status": "completed"
    },
    "tags": []
   },
   "outputs": [
    {
     "name": "stdout",
     "output_type": "stream",
     "text": [
      "Train Data size: 80000\n",
      "Test Data size 80000\n"
     ]
    }
   ],
   "source": [
    "X_train, X_test,y_train,y_test = train_test_split(data,labels, test_size=1-TRAIN_SIZE,random_state=7) \n",
    "print(\"Train Data size:\", len(X_train))\n",
    "print(\"Test Data size\", len(y_train))"
   ]
  },
  {
   "cell_type": "markdown",
   "id": "52a6da96",
   "metadata": {
    "papermill": {
     "duration": 0.00917,
     "end_time": "2023-01-14T19:48:08.147241",
     "exception": false,
     "start_time": "2023-01-14T19:48:08.138071",
     "status": "completed"
    },
    "tags": []
   },
   "source": [
    "## Tokenization"
   ]
  },
  {
   "cell_type": "code",
   "execution_count": 17,
   "id": "259d1e89",
   "metadata": {
    "execution": {
     "iopub.execute_input": "2023-01-14T19:48:08.168488Z",
     "iopub.status.busy": "2023-01-14T19:48:08.166842Z",
     "iopub.status.idle": "2023-01-14T19:48:09.303213Z",
     "shell.execute_reply": "2023-01-14T19:48:09.301967Z"
    },
    "papermill": {
     "duration": 1.149523,
     "end_time": "2023-01-14T19:48:09.306128",
     "exception": false,
     "start_time": "2023-01-14T19:48:08.156605",
     "status": "completed"
    },
    "tags": []
   },
   "outputs": [
    {
     "name": "stdout",
     "output_type": "stream",
     "text": [
      "Vocabulary Size : 81913\n"
     ]
    }
   ],
   "source": [
    "tokenizer = Tokenizer()\n",
    "tokenizer.fit_on_texts(X_train)\n",
    "\n",
    "word_index = tokenizer.word_index\n",
    "vocab_size = len(tokenizer.word_index) + 1\n",
    "print(\"Vocabulary Size :\", vocab_size)"
   ]
  },
  {
   "cell_type": "code",
   "execution_count": 18,
   "id": "de0ada5f",
   "metadata": {
    "execution": {
     "iopub.execute_input": "2023-01-14T19:48:09.325758Z",
     "iopub.status.busy": "2023-01-14T19:48:09.325449Z",
     "iopub.status.idle": "2023-01-14T19:48:11.123314Z",
     "shell.execute_reply": "2023-01-14T19:48:11.121340Z"
    },
    "papermill": {
     "duration": 1.810785,
     "end_time": "2023-01-14T19:48:11.126311",
     "exception": false,
     "start_time": "2023-01-14T19:48:09.315526",
     "status": "completed"
    },
    "tags": []
   },
   "outputs": [
    {
     "name": "stdout",
     "output_type": "stream",
     "text": [
      "Training X Shape: (80000, 30)\n",
      "Testing X Shape: (20000, 30)\n"
     ]
    }
   ],
   "source": [
    "X_train = pad_sequences(tokenizer.texts_to_sequences(X_train),\n",
    "                        maxlen = MAX_SEQUENCE_LENGTH)\n",
    "X_test = pad_sequences(tokenizer.texts_to_sequences(X_test),\n",
    "                       maxlen = MAX_SEQUENCE_LENGTH)\n",
    "\n",
    "print(\"Training X Shape:\",X_train.shape)\n",
    "print(\"Testing X Shape:\",X_test.shape)"
   ]
  },
  {
   "cell_type": "code",
   "execution_count": 19,
   "id": "d3a7516b",
   "metadata": {
    "execution": {
     "iopub.execute_input": "2023-01-14T19:48:11.147739Z",
     "iopub.status.busy": "2023-01-14T19:48:11.147403Z",
     "iopub.status.idle": "2023-01-14T19:48:11.154728Z",
     "shell.execute_reply": "2023-01-14T19:48:11.153127Z"
    },
    "papermill": {
     "duration": 0.021042,
     "end_time": "2023-01-14T19:48:11.157619",
     "exception": false,
     "start_time": "2023-01-14T19:48:11.136577",
     "status": "completed"
    },
    "tags": []
   },
   "outputs": [
    {
     "name": "stdout",
     "output_type": "stream",
     "text": [
      "y_train shape: (80000, 1)\n",
      "y_test shape: (20000, 1)\n"
     ]
    }
   ],
   "source": [
    "y_train = y_train.reshape(-1,1)\n",
    "y_test = y_test.reshape(-1,1)\n",
    "print(\"y_train shape:\", y_train.shape)\n",
    "print(\"y_test shape:\", y_test.shape)"
   ]
  },
  {
   "cell_type": "markdown",
   "id": "93b3a436",
   "metadata": {
    "papermill": {
     "duration": 0.009515,
     "end_time": "2023-01-14T19:48:11.176846",
     "exception": false,
     "start_time": "2023-01-14T19:48:11.167331",
     "status": "completed"
    },
    "tags": []
   },
   "source": [
    "## Word Emdedding "
   ]
  },
  {
   "cell_type": "code",
   "execution_count": 20,
   "id": "43032432",
   "metadata": {
    "execution": {
     "iopub.execute_input": "2023-01-14T19:48:11.196158Z",
     "iopub.status.busy": "2023-01-14T19:48:11.195872Z",
     "iopub.status.idle": "2023-01-14T19:51:13.467414Z",
     "shell.execute_reply": "2023-01-14T19:51:13.465752Z"
    },
    "papermill": {
     "duration": 182.286007,
     "end_time": "2023-01-14T19:51:13.471938",
     "exception": false,
     "start_time": "2023-01-14T19:48:11.185931",
     "status": "completed"
    },
    "tags": []
   },
   "outputs": [
    {
     "name": "stdout",
     "output_type": "stream",
     "text": [
      "--2023-01-14 19:48:12--  http://nlp.stanford.edu/data/glove.6B.zip\r\n",
      "Resolving nlp.stanford.edu (nlp.stanford.edu)... 171.64.67.140\r\n",
      "Connecting to nlp.stanford.edu (nlp.stanford.edu)|171.64.67.140|:80... connected.\r\n",
      "HTTP request sent, awaiting response... 302 Found\r\n",
      "Location: https://nlp.stanford.edu/data/glove.6B.zip [following]\r\n",
      "--2023-01-14 19:48:12--  https://nlp.stanford.edu/data/glove.6B.zip\r\n",
      "Connecting to nlp.stanford.edu (nlp.stanford.edu)|171.64.67.140|:443... connected.\r\n",
      "HTTP request sent, awaiting response... 301 Moved Permanently\r\n",
      "Location: https://downloads.cs.stanford.edu/nlp/data/glove.6B.zip [following]\r\n",
      "--2023-01-14 19:48:12--  https://downloads.cs.stanford.edu/nlp/data/glove.6B.zip\r\n",
      "Resolving downloads.cs.stanford.edu (downloads.cs.stanford.edu)... 171.64.64.22\r\n",
      "Connecting to downloads.cs.stanford.edu (downloads.cs.stanford.edu)|171.64.64.22|:443... connected.\r\n",
      "HTTP request sent, awaiting response... 200 OK\r\n",
      "Length: 862182613 (822M) [application/zip]\r\n",
      "Saving to: ‘glove.6B.zip’\r\n",
      "\r\n",
      "glove.6B.zip        100%[===================>] 822.24M  5.02MB/s    in 2m 39s  \r\n",
      "\r\n",
      "2023-01-14 19:50:51 (5.18 MB/s) - ‘glove.6B.zip’ saved [862182613/862182613]\r\n",
      "\r\n",
      "Archive:  glove.6B.zip\r\n",
      "  inflating: glove.6B.50d.txt        \r\n",
      "  inflating: glove.6B.100d.txt       \r\n",
      "  inflating: glove.6B.200d.txt       \r\n",
      "  inflating: glove.6B.300d.txt       \r\n"
     ]
    }
   ],
   "source": [
    "!wget http://nlp.stanford.edu/data/glove.6B.zip\n",
    "!unzip glove.6B.zip"
   ]
  },
  {
   "cell_type": "code",
   "execution_count": 21,
   "id": "b1f35f37",
   "metadata": {
    "execution": {
     "iopub.execute_input": "2023-01-14T19:51:13.810974Z",
     "iopub.status.busy": "2023-01-14T19:51:13.810329Z",
     "iopub.status.idle": "2023-01-14T19:51:13.822759Z",
     "shell.execute_reply": "2023-01-14T19:51:13.821448Z"
    },
    "papermill": {
     "duration": 0.189861,
     "end_time": "2023-01-14T19:51:13.826745",
     "exception": false,
     "start_time": "2023-01-14T19:51:13.636884",
     "status": "completed"
    },
    "tags": []
   },
   "outputs": [],
   "source": [
    "GLOVE_EMB = '/kaggle/working/glove.6B.300d.txt'\n",
    "EMBEDDING_DIM = 300\n",
    "LR = 1e-3\n",
    "BATCH_SIZE = 1024\n",
    "EPOCHS = 10\n",
    "MODEL_PATH = '.../output/kaggle/working/best_model.hdf5'"
   ]
  },
  {
   "cell_type": "code",
   "execution_count": 22,
   "id": "62176116",
   "metadata": {
    "execution": {
     "iopub.execute_input": "2023-01-14T19:51:14.145655Z",
     "iopub.status.busy": "2023-01-14T19:51:14.145057Z",
     "iopub.status.idle": "2023-01-14T19:51:35.188801Z",
     "shell.execute_reply": "2023-01-14T19:51:35.186602Z"
    },
    "papermill": {
     "duration": 21.217039,
     "end_time": "2023-01-14T19:51:35.191860",
     "exception": false,
     "start_time": "2023-01-14T19:51:13.974821",
     "status": "completed"
    },
    "tags": []
   },
   "outputs": [
    {
     "name": "stdout",
     "output_type": "stream",
     "text": [
      "Found 400000 word vectors.\n"
     ]
    }
   ],
   "source": [
    "embeddings_index = {}\n",
    "\n",
    "f = open(GLOVE_EMB)\n",
    "for line in f:\n",
    "  values = line.split()\n",
    "  word = value = values[0]\n",
    "  coefs = np.asarray(values[1:], dtype='float32')\n",
    "  embeddings_index[word] = coefs\n",
    "f.close()\n",
    "\n",
    "print('Found %s word vectors.' %len(embeddings_index))"
   ]
  },
  {
   "cell_type": "code",
   "execution_count": 23,
   "id": "907cbf1b",
   "metadata": {
    "execution": {
     "iopub.execute_input": "2023-01-14T19:51:35.287505Z",
     "iopub.status.busy": "2023-01-14T19:51:35.287163Z",
     "iopub.status.idle": "2023-01-14T19:51:35.444845Z",
     "shell.execute_reply": "2023-01-14T19:51:35.443833Z"
    },
    "papermill": {
     "duration": 0.207533,
     "end_time": "2023-01-14T19:51:35.447343",
     "exception": false,
     "start_time": "2023-01-14T19:51:35.239810",
     "status": "completed"
    },
    "tags": []
   },
   "outputs": [],
   "source": [
    "embedding_matrix = np.zeros((vocab_size, EMBEDDING_DIM))\n",
    "for word, i in word_index.items():\n",
    "  embedding_vector = embeddings_index.get(word)\n",
    "  if embedding_vector is not None:\n",
    "    embedding_matrix[i] = embedding_vector"
   ]
  },
  {
   "cell_type": "code",
   "execution_count": 24,
   "id": "a313853e",
   "metadata": {
    "execution": {
     "iopub.execute_input": "2023-01-14T19:51:35.554760Z",
     "iopub.status.busy": "2023-01-14T19:51:35.554412Z",
     "iopub.status.idle": "2023-01-14T19:51:35.584703Z",
     "shell.execute_reply": "2023-01-14T19:51:35.583808Z"
    },
    "papermill": {
     "duration": 0.091382,
     "end_time": "2023-01-14T19:51:35.586657",
     "exception": false,
     "start_time": "2023-01-14T19:51:35.495275",
     "status": "completed"
    },
    "tags": []
   },
   "outputs": [],
   "source": [
    "embedding_layer = tf.keras.layers.Embedding(vocab_size,\n",
    "                                          EMBEDDING_DIM,\n",
    "                                          weights=[embedding_matrix],\n",
    "                                          input_length=MAX_SEQUENCE_LENGTH,\n",
    "                                          trainable=False)"
   ]
  },
  {
   "cell_type": "markdown",
   "id": "2a56d12b",
   "metadata": {
    "papermill": {
     "duration": 0.048136,
     "end_time": "2023-01-14T19:51:35.682041",
     "exception": false,
     "start_time": "2023-01-14T19:51:35.633905",
     "status": "completed"
    },
    "tags": []
   },
   "source": [
    "## Model Training"
   ]
  },
  {
   "cell_type": "code",
   "execution_count": 25,
   "id": "cb52646e",
   "metadata": {
    "execution": {
     "iopub.execute_input": "2023-01-14T19:51:35.779988Z",
     "iopub.status.busy": "2023-01-14T19:51:35.778964Z",
     "iopub.status.idle": "2023-01-14T19:51:35.786125Z",
     "shell.execute_reply": "2023-01-14T19:51:35.785238Z"
    },
    "papermill": {
     "duration": 0.057299,
     "end_time": "2023-01-14T19:51:35.788074",
     "exception": false,
     "start_time": "2023-01-14T19:51:35.730775",
     "status": "completed"
    },
    "tags": []
   },
   "outputs": [],
   "source": [
    "from tensorflow.keras.layers import Conv1D, Bidirectional, LSTM, Dense, Input, Dropout\n",
    "from tensorflow.keras.layers import SpatialDropout1D\n",
    "from tensorflow.keras.callbacks import ModelCheckpoint"
   ]
  },
  {
   "cell_type": "code",
   "execution_count": 26,
   "id": "f442e7e5",
   "metadata": {
    "execution": {
     "iopub.execute_input": "2023-01-14T19:51:35.884129Z",
     "iopub.status.busy": "2023-01-14T19:51:35.883132Z",
     "iopub.status.idle": "2023-01-14T19:51:40.157728Z",
     "shell.execute_reply": "2023-01-14T19:51:40.156653Z"
    },
    "papermill": {
     "duration": 4.325628,
     "end_time": "2023-01-14T19:51:40.160784",
     "exception": false,
     "start_time": "2023-01-14T19:51:35.835156",
     "status": "completed"
    },
    "tags": []
   },
   "outputs": [
    {
     "name": "stderr",
     "output_type": "stream",
     "text": [
      "2023-01-14 19:51:36.014248: I tensorflow/stream_executor/cuda/cuda_gpu_executor.cc:937] successful NUMA node read from SysFS had negative value (-1), but there must be at least one NUMA node, so returning NUMA node zero\n",
      "2023-01-14 19:51:36.015152: I tensorflow/stream_executor/cuda/cuda_gpu_executor.cc:937] successful NUMA node read from SysFS had negative value (-1), but there must be at least one NUMA node, so returning NUMA node zero\n",
      "2023-01-14 19:51:36.147598: I tensorflow/stream_executor/cuda/cuda_gpu_executor.cc:937] successful NUMA node read from SysFS had negative value (-1), but there must be at least one NUMA node, so returning NUMA node zero\n",
      "2023-01-14 19:51:36.148507: I tensorflow/stream_executor/cuda/cuda_gpu_executor.cc:937] successful NUMA node read from SysFS had negative value (-1), but there must be at least one NUMA node, so returning NUMA node zero\n",
      "2023-01-14 19:51:36.149346: I tensorflow/stream_executor/cuda/cuda_gpu_executor.cc:937] successful NUMA node read from SysFS had negative value (-1), but there must be at least one NUMA node, so returning NUMA node zero\n",
      "2023-01-14 19:51:36.150159: I tensorflow/stream_executor/cuda/cuda_gpu_executor.cc:937] successful NUMA node read from SysFS had negative value (-1), but there must be at least one NUMA node, so returning NUMA node zero\n",
      "2023-01-14 19:51:36.151855: I tensorflow/core/platform/cpu_feature_guard.cc:142] This TensorFlow binary is optimized with oneAPI Deep Neural Network Library (oneDNN) to use the following CPU instructions in performance-critical operations:  AVX2 AVX512F FMA\n",
      "To enable them in other operations, rebuild TensorFlow with the appropriate compiler flags.\n",
      "2023-01-14 19:51:36.402437: I tensorflow/stream_executor/cuda/cuda_gpu_executor.cc:937] successful NUMA node read from SysFS had negative value (-1), but there must be at least one NUMA node, so returning NUMA node zero\n",
      "2023-01-14 19:51:36.403242: I tensorflow/stream_executor/cuda/cuda_gpu_executor.cc:937] successful NUMA node read from SysFS had negative value (-1), but there must be at least one NUMA node, so returning NUMA node zero\n",
      "2023-01-14 19:51:36.404052: I tensorflow/stream_executor/cuda/cuda_gpu_executor.cc:937] successful NUMA node read from SysFS had negative value (-1), but there must be at least one NUMA node, so returning NUMA node zero\n",
      "2023-01-14 19:51:36.404849: I tensorflow/stream_executor/cuda/cuda_gpu_executor.cc:937] successful NUMA node read from SysFS had negative value (-1), but there must be at least one NUMA node, so returning NUMA node zero\n",
      "2023-01-14 19:51:36.405571: I tensorflow/stream_executor/cuda/cuda_gpu_executor.cc:937] successful NUMA node read from SysFS had negative value (-1), but there must be at least one NUMA node, so returning NUMA node zero\n",
      "2023-01-14 19:51:36.406270: I tensorflow/stream_executor/cuda/cuda_gpu_executor.cc:937] successful NUMA node read from SysFS had negative value (-1), but there must be at least one NUMA node, so returning NUMA node zero\n",
      "2023-01-14 19:51:39.169178: I tensorflow/stream_executor/cuda/cuda_gpu_executor.cc:937] successful NUMA node read from SysFS had negative value (-1), but there must be at least one NUMA node, so returning NUMA node zero\n",
      "2023-01-14 19:51:39.170180: I tensorflow/stream_executor/cuda/cuda_gpu_executor.cc:937] successful NUMA node read from SysFS had negative value (-1), but there must be at least one NUMA node, so returning NUMA node zero\n",
      "2023-01-14 19:51:39.171008: I tensorflow/stream_executor/cuda/cuda_gpu_executor.cc:937] successful NUMA node read from SysFS had negative value (-1), but there must be at least one NUMA node, so returning NUMA node zero\n",
      "2023-01-14 19:51:39.171754: I tensorflow/stream_executor/cuda/cuda_gpu_executor.cc:937] successful NUMA node read from SysFS had negative value (-1), but there must be at least one NUMA node, so returning NUMA node zero\n",
      "2023-01-14 19:51:39.172465: I tensorflow/stream_executor/cuda/cuda_gpu_executor.cc:937] successful NUMA node read from SysFS had negative value (-1), but there must be at least one NUMA node, so returning NUMA node zero\n",
      "2023-01-14 19:51:39.173113: I tensorflow/core/common_runtime/gpu/gpu_device.cc:1510] Created device /job:localhost/replica:0/task:0/device:GPU:0 with 13789 MB memory:  -> device: 0, name: Tesla T4, pci bus id: 0000:00:04.0, compute capability: 7.5\n",
      "2023-01-14 19:51:39.176904: I tensorflow/stream_executor/cuda/cuda_gpu_executor.cc:937] successful NUMA node read from SysFS had negative value (-1), but there must be at least one NUMA node, so returning NUMA node zero\n",
      "2023-01-14 19:51:39.177623: I tensorflow/core/common_runtime/gpu/gpu_device.cc:1510] Created device /job:localhost/replica:0/task:0/device:GPU:1 with 13789 MB memory:  -> device: 1, name: Tesla T4, pci bus id: 0000:00:05.0, compute capability: 7.5\n"
     ]
    }
   ],
   "source": [
    "sequence_input = Input(shape=(MAX_SEQUENCE_LENGTH,), dtype='int32')\n",
    "embedding_sequences = embedding_layer(sequence_input)\n",
    "x = SpatialDropout1D(0.2)(embedding_sequences)\n",
    "x = Conv1D(64, 5, activation='relu')(x)\n",
    "x = Bidirectional(LSTM(64, dropout=0.2, recurrent_dropout=0.2))(x)\n",
    "x = Dense(512, activation='relu')(x)\n",
    "x = Dropout(0.5)(x)\n",
    "x = Dense(512, activation='relu')(x)\n",
    "outputs = Dense(1, activation='sigmoid')(x)\n",
    "model = tf.keras.Model(sequence_input, outputs)"
   ]
  },
  {
   "cell_type": "code",
   "execution_count": 27,
   "id": "a4890b3a",
   "metadata": {
    "execution": {
     "iopub.execute_input": "2023-01-14T19:51:40.257725Z",
     "iopub.status.busy": "2023-01-14T19:51:40.257354Z",
     "iopub.status.idle": "2023-01-14T19:51:40.272128Z",
     "shell.execute_reply": "2023-01-14T19:51:40.271298Z"
    },
    "papermill": {
     "duration": 0.065752,
     "end_time": "2023-01-14T19:51:40.274237",
     "exception": false,
     "start_time": "2023-01-14T19:51:40.208485",
     "status": "completed"
    },
    "tags": []
   },
   "outputs": [],
   "source": [
    "from tensorflow.keras.optimizers import Adam\n",
    "from tensorflow.keras.callbacks import ReduceLROnPlateau\n",
    "\n",
    "model.compile(optimizer=Adam(learning_rate=LR), loss='binary_crossentropy',\n",
    "              metrics=['accuracy'])\n",
    "ReduceLROnPlateau = ReduceLROnPlateau(factor=0.1,\n",
    "                                     min_lr = 0.01,\n",
    "                                     monitor = 'val_loss',\n",
    "                                     verbose = 1)"
   ]
  },
  {
   "cell_type": "code",
   "execution_count": 28,
   "id": "c9cfa4fe",
   "metadata": {
    "execution": {
     "iopub.execute_input": "2023-01-14T19:51:40.369146Z",
     "iopub.status.busy": "2023-01-14T19:51:40.368841Z",
     "iopub.status.idle": "2023-01-14T19:51:40.385087Z",
     "shell.execute_reply": "2023-01-14T19:51:40.383766Z"
    },
    "papermill": {
     "duration": 0.06828,
     "end_time": "2023-01-14T19:51:40.389430",
     "exception": false,
     "start_time": "2023-01-14T19:51:40.321150",
     "status": "completed"
    },
    "tags": []
   },
   "outputs": [
    {
     "name": "stdout",
     "output_type": "stream",
     "text": [
      "Training on GPU...\n"
     ]
    },
    {
     "name": "stderr",
     "output_type": "stream",
     "text": [
      "2023-01-14 19:51:40.371129: I tensorflow/stream_executor/cuda/cuda_gpu_executor.cc:937] successful NUMA node read from SysFS had negative value (-1), but there must be at least one NUMA node, so returning NUMA node zero\n",
      "2023-01-14 19:51:40.371771: I tensorflow/stream_executor/cuda/cuda_gpu_executor.cc:937] successful NUMA node read from SysFS had negative value (-1), but there must be at least one NUMA node, so returning NUMA node zero\n",
      "2023-01-14 19:51:40.372537: I tensorflow/stream_executor/cuda/cuda_gpu_executor.cc:937] successful NUMA node read from SysFS had negative value (-1), but there must be at least one NUMA node, so returning NUMA node zero\n",
      "2023-01-14 19:51:40.372959: I tensorflow/stream_executor/cuda/cuda_gpu_executor.cc:937] successful NUMA node read from SysFS had negative value (-1), but there must be at least one NUMA node, so returning NUMA node zero\n",
      "2023-01-14 19:51:40.373661: I tensorflow/stream_executor/cuda/cuda_gpu_executor.cc:937] successful NUMA node read from SysFS had negative value (-1), but there must be at least one NUMA node, so returning NUMA node zero\n",
      "2023-01-14 19:51:40.374069: I tensorflow/stream_executor/cuda/cuda_gpu_executor.cc:937] successful NUMA node read from SysFS had negative value (-1), but there must be at least one NUMA node, so returning NUMA node zero\n",
      "2023-01-14 19:51:40.374902: I tensorflow/stream_executor/cuda/cuda_gpu_executor.cc:937] successful NUMA node read from SysFS had negative value (-1), but there must be at least one NUMA node, so returning NUMA node zero\n",
      "2023-01-14 19:51:40.375363: I tensorflow/stream_executor/cuda/cuda_gpu_executor.cc:937] successful NUMA node read from SysFS had negative value (-1), but there must be at least one NUMA node, so returning NUMA node zero\n",
      "2023-01-14 19:51:40.376104: I tensorflow/stream_executor/cuda/cuda_gpu_executor.cc:937] successful NUMA node read from SysFS had negative value (-1), but there must be at least one NUMA node, so returning NUMA node zero\n",
      "2023-01-14 19:51:40.376490: I tensorflow/core/common_runtime/gpu/gpu_device.cc:1510] Created device /device:GPU:0 with 13789 MB memory:  -> device: 0, name: Tesla T4, pci bus id: 0000:00:04.0, compute capability: 7.5\n",
      "2023-01-14 19:51:40.376614: I tensorflow/stream_executor/cuda/cuda_gpu_executor.cc:937] successful NUMA node read from SysFS had negative value (-1), but there must be at least one NUMA node, so returning NUMA node zero\n",
      "2023-01-14 19:51:40.377232: I tensorflow/core/common_runtime/gpu/gpu_device.cc:1510] Created device /device:GPU:1 with 13789 MB memory:  -> device: 1, name: Tesla T4, pci bus id: 0000:00:05.0, compute capability: 7.5\n"
     ]
    }
   ],
   "source": [
    "print(\"Training on GPU...\") if tf.test.is_gpu_available() else print(\"Training on CPU...\")"
   ]
  },
  {
   "cell_type": "code",
   "execution_count": 29,
   "id": "e20731d3",
   "metadata": {
    "execution": {
     "iopub.execute_input": "2023-01-14T19:51:40.484747Z",
     "iopub.status.busy": "2023-01-14T19:51:40.484446Z",
     "iopub.status.idle": "2023-01-14T19:56:07.156495Z",
     "shell.execute_reply": "2023-01-14T19:56:07.155457Z"
    },
    "papermill": {
     "duration": 266.722454,
     "end_time": "2023-01-14T19:56:07.159042",
     "exception": false,
     "start_time": "2023-01-14T19:51:40.436588",
     "status": "completed"
    },
    "tags": []
   },
   "outputs": [
    {
     "name": "stderr",
     "output_type": "stream",
     "text": [
      "2023-01-14 19:51:40.544771: I tensorflow/compiler/mlir/mlir_graph_optimization_pass.cc:185] None of the MLIR Optimization Passes are enabled (registered 2)\n"
     ]
    },
    {
     "name": "stdout",
     "output_type": "stream",
     "text": [
      "Epoch 1/10\n"
     ]
    },
    {
     "name": "stderr",
     "output_type": "stream",
     "text": [
      "2023-01-14 19:51:46.503739: I tensorflow/stream_executor/cuda/cuda_dnn.cc:369] Loaded cuDNN version 8005\n"
     ]
    },
    {
     "name": "stdout",
     "output_type": "stream",
     "text": [
      "79/79 [==============================] - 37s 305ms/step - loss: 0.5933 - accuracy: 0.6781 - val_loss: 0.5379 - val_accuracy: 0.7266\n",
      "Epoch 2/10\n",
      "79/79 [==============================] - 23s 291ms/step - loss: 0.5374 - accuracy: 0.7255 - val_loss: 0.5171 - val_accuracy: 0.7416\n",
      "Epoch 3/10\n",
      "79/79 [==============================] - 24s 301ms/step - loss: 0.5137 - accuracy: 0.7429 - val_loss: 0.5061 - val_accuracy: 0.7523\n",
      "Epoch 4/10\n",
      "79/79 [==============================] - 24s 308ms/step - loss: 0.4934 - accuracy: 0.7591 - val_loss: 0.5037 - val_accuracy: 0.7542\n",
      "Epoch 5/10\n",
      "79/79 [==============================] - 24s 307ms/step - loss: 0.4767 - accuracy: 0.7694 - val_loss: 0.5028 - val_accuracy: 0.7538\n",
      "Epoch 6/10\n",
      "79/79 [==============================] - 23s 291ms/step - loss: 0.4616 - accuracy: 0.7806 - val_loss: 0.4996 - val_accuracy: 0.7536\n",
      "Epoch 7/10\n",
      "79/79 [==============================] - 24s 299ms/step - loss: 0.4454 - accuracy: 0.7903 - val_loss: 0.5066 - val_accuracy: 0.7516\n",
      "Epoch 8/10\n",
      "79/79 [==============================] - 24s 307ms/step - loss: 0.4332 - accuracy: 0.7972 - val_loss: 0.5175 - val_accuracy: 0.7450\n",
      "Epoch 9/10\n",
      "79/79 [==============================] - 24s 301ms/step - loss: 0.4236 - accuracy: 0.8026 - val_loss: 0.5133 - val_accuracy: 0.7490\n",
      "Epoch 10/10\n",
      "79/79 [==============================] - 23s 286ms/step - loss: 0.4146 - accuracy: 0.8089 - val_loss: 0.5282 - val_accuracy: 0.7498\n"
     ]
    }
   ],
   "source": [
    "history = model.fit(X_train, y_train, batch_size=BATCH_SIZE, epochs=EPOCHS,\n",
    "                    validation_data=(X_test, y_test), callbacks=[ReduceLROnPlateau])"
   ]
  },
  {
   "cell_type": "markdown",
   "id": "4e24472d",
   "metadata": {
    "papermill": {
     "duration": 0.088487,
     "end_time": "2023-01-14T19:56:07.392826",
     "exception": false,
     "start_time": "2023-01-14T19:56:07.304339",
     "status": "completed"
    },
    "tags": []
   },
   "source": [
    "## Model Evaluation"
   ]
  },
  {
   "cell_type": "code",
   "execution_count": 30,
   "id": "d4fb2df0",
   "metadata": {
    "execution": {
     "iopub.execute_input": "2023-01-14T19:56:07.571580Z",
     "iopub.status.busy": "2023-01-14T19:56:07.569877Z",
     "iopub.status.idle": "2023-01-14T19:56:08.179294Z",
     "shell.execute_reply": "2023-01-14T19:56:08.178197Z"
    },
    "papermill": {
     "duration": 0.700355,
     "end_time": "2023-01-14T19:56:08.181459",
     "exception": false,
     "start_time": "2023-01-14T19:56:07.481104",
     "status": "completed"
    },
    "tags": []
   },
   "outputs": [
    {
     "data": {
      "text/plain": [
       "<matplotlib.legend.Legend at 0x7f75257154d0>"
      ]
     },
     "execution_count": 30,
     "metadata": {},
     "output_type": "execute_result"
    },
    {
     "data": {
      "image/png": "[encoded data removed]",
      "text/plain": [
       "<Figure size 432x288 with 2 Axes>"
      ]
     },
     "metadata": {
      "needs_background": "light"
     },
     "output_type": "display_data"
    }
   ],
   "source": [
    "s, (at, al) = plt.subplots(2,1)\n",
    "at.plot(history.history['accuracy'], c= 'b')\n",
    "at.plot(history.history['val_accuracy'], c='r')\n",
    "at.set_title('model accuracy')\n",
    "at.set_ylabel('accuracy')\n",
    "at.set_xlabel('epoch')\n",
    "at.legend(['LSTM_train', 'LSTM_val'], loc='upper left')\n",
    "\n",
    "al.plot(history.history['loss'], c='m')\n",
    "al.plot(history.history['val_loss'], c='c')\n",
    "al.set_title('model loss')\n",
    "al.set_ylabel('loss')\n",
    "al.set_xlabel('epoch')\n",
    "al.legend(['train', 'val'], loc = 'upper left')"
   ]
  },
  {
   "cell_type": "code",
   "execution_count": 31,
   "id": "ed60c4b0",
   "metadata": {
    "execution": {
     "iopub.execute_input": "2023-01-14T19:56:08.361028Z",
     "iopub.status.busy": "2023-01-14T19:56:08.360716Z",
     "iopub.status.idle": "2023-01-14T19:56:08.365202Z",
     "shell.execute_reply": "2023-01-14T19:56:08.364212Z"
    },
    "papermill": {
     "duration": 0.096547,
     "end_time": "2023-01-14T19:56:08.367185",
     "exception": false,
     "start_time": "2023-01-14T19:56:08.270638",
     "status": "completed"
    },
    "tags": []
   },
   "outputs": [],
   "source": [
    "def decode_sentiment(score):\n",
    "    return \"Positive\" if score>0.5 else \"Negative\""
   ]
  },
  {
   "cell_type": "code",
   "execution_count": 32,
   "id": "ae77fe6a",
   "metadata": {
    "execution": {
     "iopub.execute_input": "2023-01-14T19:56:08.546620Z",
     "iopub.status.busy": "2023-01-14T19:56:08.546300Z",
     "iopub.status.idle": "2023-01-14T19:56:09.404493Z",
     "shell.execute_reply": "2023-01-14T19:56:09.403578Z"
    },
    "papermill": {
     "duration": 0.951206,
     "end_time": "2023-01-14T19:56:09.406692",
     "exception": false,
     "start_time": "2023-01-14T19:56:08.455486",
     "status": "completed"
    },
    "tags": []
   },
   "outputs": [
    {
     "name": "stdout",
     "output_type": "stream",
     "text": [
      "2/2 [==============================] - 1s 63ms/step\n"
     ]
    }
   ],
   "source": [
    "scores = model.predict(X_test, verbose=1, batch_size=10000)\n",
    "y_pred_1d = [decode_sentiment(score) for score in scores]"
   ]
  },
  {
   "cell_type": "code",
   "execution_count": null,
   "id": "28df4408",
   "metadata": {
    "papermill": {
     "duration": 0.088396,
     "end_time": "2023-01-14T19:56:09.584964",
     "exception": false,
     "start_time": "2023-01-14T19:56:09.496568",
     "status": "completed"
    },
    "tags": []
   },
   "outputs": [],
   "source": []
  },
  {
   "cell_type": "code",
   "execution_count": 33,
   "id": "697cef0c",
   "metadata": {
    "execution": {
     "iopub.execute_input": "2023-01-14T19:56:09.767034Z",
     "iopub.status.busy": "2023-01-14T19:56:09.765069Z",
     "iopub.status.idle": "2023-01-14T19:56:09.798363Z",
     "shell.execute_reply": "2023-01-14T19:56:09.797484Z"
    },
    "papermill": {
     "duration": 0.126443,
     "end_time": "2023-01-14T19:56:09.800571",
     "exception": false,
     "start_time": "2023-01-14T19:56:09.674128",
     "status": "completed"
    },
    "tags": []
   },
   "outputs": [],
   "source": [
    "Y_test=[decode_sentiment(x) for x in y_test]"
   ]
  },
  {
   "cell_type": "code",
   "execution_count": 34,
   "id": "ef867017",
   "metadata": {
    "execution": {
     "iopub.execute_input": "2023-01-14T19:56:09.982606Z",
     "iopub.status.busy": "2023-01-14T19:56:09.982226Z",
     "iopub.status.idle": "2023-01-14T19:56:10.222805Z",
     "shell.execute_reply": "2023-01-14T19:56:10.221533Z"
    },
    "papermill": {
     "duration": 0.335636,
     "end_time": "2023-01-14T19:56:10.225625",
     "exception": false,
     "start_time": "2023-01-14T19:56:09.889989",
     "status": "completed"
    },
    "tags": []
   },
   "outputs": [
    {
     "name": "stdout",
     "output_type": "stream",
     "text": [
      "              precision    recall  f1-score   support\n",
      "\n",
      "    Negative       0.77      0.71      0.73      9812\n",
      "    Positive       0.74      0.79      0.76     10188\n",
      "\n",
      "    accuracy                           0.75     20000\n",
      "   macro avg       0.75      0.75      0.75     20000\n",
      "weighted avg       0.75      0.75      0.75     20000\n",
      "\n"
     ]
    }
   ],
   "source": [
    "print(classification_report(Y_test, y_pred_1d))"
   ]
  },
  {
   "cell_type": "code",
   "execution_count": 35,
   "id": "986f11c0",
   "metadata": {
    "execution": {
     "iopub.execute_input": "2023-01-14T19:56:10.407133Z",
     "iopub.status.busy": "2023-01-14T19:56:10.406785Z",
     "iopub.status.idle": "2023-01-14T19:56:10.413013Z",
     "shell.execute_reply": "2023-01-14T19:56:10.412003Z"
    },
    "papermill": {
     "duration": 0.09779,
     "end_time": "2023-01-14T19:56:10.415040",
     "exception": false,
     "start_time": "2023-01-14T19:56:10.317250",
     "status": "completed"
    },
    "tags": []
   },
   "outputs": [],
   "source": [
    "def predict_text(text, include_neutral=True):\n",
    "    # Tokenize text\n",
    "    x_test = pad_sequences(tokenizer.texts_to_sequences([text]), maxlen=MAX_SEQUENCE_LENGTH)\n",
    "    # Predict\n",
    "    score = model.predict([x_test])[0]\n",
    "    # Decode sentiment\n",
    "    label = decode_sentiment(score)\n",
    "    if label==\"Negative\":\n",
    "        score+=0.5\n",
    "    print(\"label: \", label)\n",
    "    print(\"score: \", float(score))"
   ]
  },
  {
   "cell_type": "code",
   "execution_count": 36,
   "id": "354e2685",
   "metadata": {
    "execution": {
     "iopub.execute_input": "2023-01-14T19:56:10.595150Z",
     "iopub.status.busy": "2023-01-14T19:56:10.593467Z",
     "iopub.status.idle": "2023-01-14T19:56:11.019849Z",
     "shell.execute_reply": "2023-01-14T19:56:11.018680Z"
    },
    "papermill": {
     "duration": 0.518693,
     "end_time": "2023-01-14T19:56:11.022052",
     "exception": false,
     "start_time": "2023-01-14T19:56:10.503359",
     "status": "completed"
    },
    "tags": []
   },
   "outputs": [
    {
     "name": "stdout",
     "output_type": "stream",
     "text": [
      "label:  Positive\n",
      "score:  0.6383631229400635\n"
     ]
    }
   ],
   "source": [
    "ep=\"Wtf it's so nice out!we should go to celebrate\"\n",
    "predict_text(ep)"
   ]
  },
  {
   "cell_type": "code",
   "execution_count": null,
   "id": "6ff49d31",
   "metadata": {
    "papermill": {
     "duration": 0.089123,
     "end_time": "2023-01-14T19:56:11.202966",
     "exception": false,
     "start_time": "2023-01-14T19:56:11.113843",
     "status": "completed"
    },
    "tags": []
   },
   "outputs": [],
   "source": []
  }
 ],
 "metadata": {
  "kernelspec": {
   "display_name": "Python 3",
   "language": "python",
   "name": "python3"
  },
  "language_info": {
   "codemirror_mode": {
    "name": "ipython",
    "version": 3
   },
   "file_extension": ".py",
   "mimetype": "text/x-python",
   "name": "python",
   "nbconvert_exporter": "python",
   "pygments_lexer": "ipython3",
   "version": "3.7.12"
  },
  "papermill": {
   "default_parameters": {},
   "duration": 525.696413,
   "end_time": "2023-01-14T19:56:14.674345",
   "environment_variables": {},
   "exception": null,
   "input_path": "__notebook__.ipynb",
   "output_path": "__notebook__.ipynb",
   "parameters": {},
   "start_time": "2023-01-14T19:47:28.977932",
   "version": "2.3.4"
  }
 },
 "nbformat": 4,
 "nbformat_minor": 5
}
